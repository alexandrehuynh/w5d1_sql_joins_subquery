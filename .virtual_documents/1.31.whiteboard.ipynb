# Pair of gloves
# Winter is coming, you must prepare for your ski holidays. The objective of this kata is to determine 
# the number of pair of gloves you can combine from the gloves you have in your drawer.

# Given an array describing the color of each glove, return the number of pairs you can combine, 
# assuming that only gloves of the same color can form pairs. 

# Examples:
# input = ["red", "green", "red", "blue", "blue"]
# output = 2 
# explanation = 1 red pair + 1 blue pair

# input = ["red", "red", "red", "red", "red", "red"]
# output = 3 
# explanation = 3 red pairs


gloves = ["red", "green", "red", "blue", "blue"]
glovesx2 = ["red", "red", "red", "red", "red", "red"]


def twins_or_nah(gloves):
    """
        Time Complexity:linear time complexity of O(n) since it involves a single pass through the list of gloves.
        
        Space Complexity: linear space complexity O(n) for the dictionary used for counting glove colors, 
        which in the worst case grows linearly with the number of gloves.
    """
    # initialize pairs list
    glove_drawer = {}
    # grab gloves
    for glove in gloves:
        # grab a glove and count matches
        if glove in glove_drawer:
            glove_drawer[glove] += 1
        else:
            glove_drawer[glove] = 1
    # count the pairs
    pair_count = 0
    for count in glove_drawer.values():
        pair_count += count // 2

    return pair_count


twins_or_nah(glovesx2)
