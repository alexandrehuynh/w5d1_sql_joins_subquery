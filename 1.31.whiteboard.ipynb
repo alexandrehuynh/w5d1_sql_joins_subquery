{
 "cells": [
  {
   "cell_type": "code",
   "execution_count": 1,
   "id": "76902d02-903c-4a8b-92cd-bf508c94e946",
   "metadata": {},
   "outputs": [],
   "source": [
    "# Pair of gloves\n",
    "# Winter is coming, you must prepare for your ski holidays. The objective of this kata is to determine \n",
    "# the number of pair of gloves you can combine from the gloves you have in your drawer.\n",
    "\n",
    "# Given an array describing the color of each glove, return the number of pairs you can combine, \n",
    "# assuming that only gloves of the same color can form pairs. \n",
    "\n",
    "# Examples:\n",
    "# input = [\"red\", \"green\", \"red\", \"blue\", \"blue\"]\n",
    "# output = 2 \n",
    "# explanation = 1 red pair + 1 blue pair\n",
    "\n",
    "# input = [\"red\", \"red\", \"red\", \"red\", \"red\", \"red\"]\n",
    "# output = 3 \n",
    "# explanation = 3 red pairs"
   ]
  },
  {
   "cell_type": "code",
   "execution_count": 23,
   "id": "bba1f612-3ea8-4b65-b4dc-cae19e4b4b2d",
   "metadata": {},
   "outputs": [],
   "source": [
    "gloves = [\"red\", \"green\", \"red\", \"blue\", \"blue\"]\n",
    "glovesx2 = [\"red\", \"red\", \"red\", \"red\", \"red\", \"red\"]"
   ]
  },
  {
   "cell_type": "code",
   "execution_count": 29,
   "id": "b41daa6a-762f-48ed-91a4-81b2f608a735",
   "metadata": {},
   "outputs": [],
   "source": [
    "def twins_or_nah(gloves):\n",
    "    \"\"\"\n",
    "        Time Complexity:linear time complexity of O(n) since it involves a single pass through the list of gloves.\n",
    "        \n",
    "        Space Complexity: linear space complexity O(n) for the dictionary used for counting glove colors, \n",
    "        which in the worst case grows linearly with the number of gloves.\n",
    "    \"\"\"\n",
    "    # initialize pairs list\n",
    "    glove_drawer = {}\n",
    "    # grab gloves\n",
    "    for glove in gloves:\n",
    "        # grab a glove and count matches\n",
    "        if glove in glove_drawer:\n",
    "            glove_drawer[glove] += 1\n",
    "        else:\n",
    "            glove_drawer[glove] = 1\n",
    "    # count the pairs\n",
    "    pair_count = 0\n",
    "    for count in glove_drawer.values():\n",
    "        pair_count += count // 2\n",
    "\n",
    "    return pair_count"
   ]
  },
  {
   "cell_type": "code",
   "execution_count": 30,
   "id": "833888ec-551c-4339-9d05-c61963bac655",
   "metadata": {},
   "outputs": [
    {
     "data": {
      "text/plain": [
       "3"
      ]
     },
     "execution_count": 30,
     "metadata": {},
     "output_type": "execute_result"
    }
   ],
   "source": [
    "twins_or_nah(glovesx2)"
   ]
  }
 ],
 "metadata": {
  "kernelspec": {
   "display_name": "Python 3 (ipykernel)",
   "language": "python",
   "name": "python3"
  },
  "language_info": {
   "codemirror_mode": {
    "name": "ipython",
    "version": 3
   },
   "file_extension": ".py",
   "mimetype": "text/x-python",
   "name": "python",
   "nbconvert_exporter": "python",
   "pygments_lexer": "ipython3",
   "version": "3.11.7"
  }
 },
 "nbformat": 4,
 "nbformat_minor": 5
}
